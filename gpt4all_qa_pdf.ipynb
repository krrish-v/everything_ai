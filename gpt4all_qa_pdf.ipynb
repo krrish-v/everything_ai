{
  "nbformat": 4,
  "nbformat_minor": 0,
  "metadata": {
    "colab": {
      "provenance": [],
      "machine_shape": "hm",
      "gpuType": "T4"
    },
    "kernelspec": {
      "name": "python3",
      "display_name": "Python 3"
    },
    "language_info": {
      "name": "python"
    },
    "gpuClass": "standard"
  },
  "cells": [
    {
      "cell_type": "code",
      "source": [
        "!apt-get install poppler-utils"
      ],
      "metadata": {
        "id": "fEo--VJph88f",
        "colab": {
          "base_uri": "https://localhost:8080/"
        },
        "outputId": "a57a7930-a298-4f9b-b732-99666f06728a"
      },
      "execution_count": null,
      "outputs": [
        {
          "output_type": "stream",
          "name": "stdout",
          "text": [
            "Reading package lists... Done\n",
            "Building dependency tree... Done\n",
            "Reading state information... Done\n",
            "poppler-utils is already the newest version (22.02.0-2ubuntu0.3).\n",
            "0 upgraded, 0 newly installed, 0 to remove and 35 not upgraded.\n"
          ]
        }
      ]
    },
    {
      "cell_type": "code",
      "execution_count": null,
      "metadata": {
        "id": "HF-QO_A9kcNW"
      },
      "outputs": [],
      "source": [
        "!pip install -Uqqq pip --progress-bar off\n",
        "!pip install -qqq langchain==0.0.173 --progress-bar off\n",
        "!pip install -qqq chromadb==0.3.23 --progress-bar off\n",
        "!pip install -qqq pypdf==3.8.1 --progress-bar off\n",
        "!pip install -qqq pygpt4all==1.1.0 --progress-bar off\n",
        "!pip install -qqq pdf2image==1.16.3 --progress-bar off"
      ]
    },
    {
      "cell_type": "code",
      "source": [
        "!gdown 1DpFisoGXsQbpQJvijuvxkLW_pg-FUUMF"
      ],
      "metadata": {
        "colab": {
          "base_uri": "https://localhost:8080/"
        },
        "id": "SZ10dc5_0G9h",
        "outputId": "4b10a7b1-3422-4dcc-a3b6-3ea3e2a4d777"
      },
      "execution_count": null,
      "outputs": [
        {
          "output_type": "stream",
          "name": "stdout",
          "text": [
            "Downloading...\n",
            "From: https://drive.google.com/uc?id=1DpFisoGXsQbpQJvijuvxkLW_pg-FUUMF\n",
            "To: /content/ms-financial-statement.pdf\n",
            "\r  0% 0.00/29.1k [00:00<?, ?B/s]\r100% 29.1k/29.1k [00:00<00:00, 38.8MB/s]\n"
          ]
        }
      ]
    },
    {
      "cell_type": "code",
      "source": [
        "!wget https://gpt4all.io/models/ggml-gpt4all-j-v1.3-groovy.bin"
      ],
      "metadata": {
        "colab": {
          "base_uri": "https://localhost:8080/"
        },
        "id": "_CB5erWvXT8s",
        "outputId": "bac6c98d-ee57-42a8-89c8-713b6245bf92"
      },
      "execution_count": null,
      "outputs": [
        {
          "output_type": "stream",
          "name": "stdout",
          "text": [
            "--2024-03-05 18:48:50--  https://gpt4all.io/models/ggml-gpt4all-j-v1.3-groovy.bin\n",
            "Resolving gpt4all.io (gpt4all.io)... 104.26.0.159, 104.26.1.159, 172.67.71.169, ...\n",
            "Connecting to gpt4all.io (gpt4all.io)|104.26.0.159|:443... connected.\n",
            "HTTP request sent, awaiting response... 200 OK\n",
            "Length: 3785248281 (3.5G)\n",
            "Saving to: ‘ggml-gpt4all-j-v1.3-groovy.bin.1’\n",
            "\n",
            "ggml-gpt4all-j-v1.3 100%[===================>]   3.52G  27.0MB/s    in 1m 54s  \n",
            "\n",
            "2024-03-05 18:50:46 (31.7 MB/s) - ‘ggml-gpt4all-j-v1.3-groovy.bin.1’ saved [3785248281/3785248281]\n",
            "\n"
          ]
        }
      ]
    },
    {
      "cell_type": "code",
      "source": [
        "from langchain.chains import RetrievalQA\n",
        "from langchain.document_loaders import PyPDFLoader\n",
        "from langchain.embeddings import HuggingFaceEmbeddings\n",
        "from langchain.llms import GPT4All\n",
        "from langchain.text_splitter import RecursiveCharacterTextSplitter\n",
        "from langchain.vectorstores import Chroma\n",
        "from pdf2image import convert_from_path"
      ],
      "metadata": {
        "id": "XtsFzzRUnOlS"
      },
      "execution_count": null,
      "outputs": []
    },
    {
      "cell_type": "markdown",
      "source": [
        "## Load Data"
      ],
      "metadata": {
        "id": "C3T21B3R0hHH"
      }
    },
    {
      "cell_type": "code",
      "source": [
        "loader = PyPDFLoader(\"ms-financial-statement.pdf\")"
      ],
      "metadata": {
        "id": "BPMq8BWASZM0"
      },
      "execution_count": null,
      "outputs": []
    },
    {
      "cell_type": "code",
      "source": [
        "documents = loader.load_and_split()"
      ],
      "metadata": {
        "id": "cEcersyxT_gl"
      },
      "execution_count": null,
      "outputs": []
    },
    {
      "cell_type": "code",
      "source": [
        "len(documents)"
      ],
      "metadata": {
        "colab": {
          "base_uri": "https://localhost:8080/"
        },
        "id": "SvmNQEFFLelF",
        "outputId": "6a5e89f2-0984-4a7f-bdce-27401908a362"
      },
      "execution_count": null,
      "outputs": [
        {
          "output_type": "execute_result",
          "data": {
            "text/plain": [
              "2"
            ]
          },
          "metadata": {},
          "execution_count": 11
        }
      ]
    },
    {
      "cell_type": "code",
      "source": [
        "print(documents[0].page_content)"
      ],
      "metadata": {
        "colab": {
          "base_uri": "https://localhost:8080/"
        },
        "id": "Al0yUjGiUAgj",
        "outputId": "4ee90394-0e74-4421-b936-d1c63b6b2d56"
      },
      "execution_count": null,
      "outputs": [
        {
          "output_type": "stream",
          "name": "stdout",
          "text": [
            "9   \n",
            "Dividends  \n",
            "Our Board of Directors declared the following dividends:  \n",
            "  \n",
            "Declaration Date  Record Date  Payment  Date  Dividend  \n",
            "Per Share  Amount    \n",
            "          \n",
            "Fiscal Year 2022        (In millions)  \n",
            "          \n",
            "September  14, 2021   November  18, 2021    December  9, 2021   $   0.62  $ 4,652   \n",
            "December  7, 2021   February  17, 2022    March  10, 2022    0.62   4,645   \n",
            "March  14, 2022   May 19, 2022    June  9, 2022    0.62   4,632   \n",
            "June  14, 2022   August  18, 2022    September  8, 2022    0.62   4,627     \n",
            "Total      $   2.48  $   18,556             \n",
            "          \n",
            "Fiscal Year 2021          \n",
            "          \n",
            "September  15, 2020   November  19, 2020    December  10, 2020   $ 0.56  $ 4,230   \n",
            "December  2, 2020   February  18, 2021    March  11, 2021    0.56   4,221   \n",
            "March  16, 2021   May 20, 2021    June  10, 2021    0.56   4,214   \n",
            "June  16, 2021   August  19, 2021    September  9, 2021    0.56   4,206     \n",
            "          \n",
            "Total      $ 2.24  $ 16,871             \n",
            "The dividend declared on June  14, 2022 was included in other current liabilities as of June  30, 2022.\n"
          ]
        }
      ]
    },
    {
      "cell_type": "code",
      "source": [
        "txts = RecursiveCharacterTextSplitter(chunk_size=400, chunk_overlap=180)\n",
        "all_token_text = txts.split_documents(documents)"
      ],
      "metadata": {
        "id": "adg1939E2RgH"
      },
      "execution_count": null,
      "outputs": []
    },
    {
      "cell_type": "code",
      "source": [
        "text_splitter = RecursiveCharacterTextSplitter(chunk_size=1024, chunk_overlap=64)\n",
        "texts = text_splitter.split_documents(documents)"
      ],
      "metadata": {
        "id": "UVpykqFoWiWb"
      },
      "execution_count": null,
      "outputs": []
    },
    {
      "cell_type": "code",
      "source": [
        "len(all_token_text)"
      ],
      "metadata": {
        "colab": {
          "base_uri": "https://localhost:8080/"
        },
        "id": "ZoYnqSgCXKnp",
        "outputId": "07d6130d-fada-492b-f47a-136990ffbe62"
      },
      "execution_count": null,
      "outputs": [
        {
          "output_type": "execute_result",
          "data": {
            "text/plain": [
              "6"
            ]
          },
          "metadata": {},
          "execution_count": 15
        }
      ]
    },
    {
      "cell_type": "code",
      "source": [
        "print(texts[0].page_content)"
      ],
      "metadata": {
        "colab": {
          "base_uri": "https://localhost:8080/"
        },
        "id": "OiFYKMTPXNn_",
        "outputId": "03d1a165-7391-4656-fc5d-1842a1e46626"
      },
      "execution_count": null,
      "outputs": [
        {
          "output_type": "stream",
          "name": "stdout",
          "text": [
            "9   \n",
            "Dividends  \n",
            "Our Board of Directors declared the following dividends:  \n",
            "  \n",
            "Declaration Date  Record Date  Payment  Date  Dividend  \n",
            "Per Share  Amount    \n",
            "          \n",
            "Fiscal Year 2022        (In millions)  \n",
            "          \n",
            "September  14, 2021   November  18, 2021    December  9, 2021   $   0.62  $ 4,652   \n",
            "December  7, 2021   February  17, 2022    March  10, 2022    0.62   4,645   \n",
            "March  14, 2022   May 19, 2022    June  9, 2022    0.62   4,632   \n",
            "June  14, 2022   August  18, 2022    September  8, 2022    0.62   4,627     \n",
            "Total      $   2.48  $   18,556             \n",
            "          \n",
            "Fiscal Year 2021          \n",
            "          \n",
            "September  15, 2020   November  19, 2020    December  10, 2020   $ 0.56  $ 4,230   \n",
            "December  2, 2020   February  18, 2021    March  11, 2021    0.56   4,221   \n",
            "March  16, 2021   May 20, 2021    June  10, 2021    0.56   4,214   \n",
            "June  16, 2021   August  19, 2021    September  9, 2021    0.56   4,206     \n",
            "          \n",
            "Total      $ 2.24  $ 16,871\n"
          ]
        }
      ]
    },
    {
      "cell_type": "markdown",
      "source": [
        "## Create Embeddings"
      ],
      "metadata": {
        "id": "FGlS3t9K0kTA"
      }
    },
    {
      "cell_type": "code",
      "source": [
        "embeddings = HuggingFaceEmbeddings(model_name=\"sentence-transformers/all-MiniLM-L6-v2\")"
      ],
      "metadata": {
        "id": "bAcy1J0UXngi"
      },
      "execution_count": null,
      "outputs": []
    },
    {
      "cell_type": "code",
      "source": [
        "db = Chroma.from_documents(texts, embeddings, persist_directory=\"db\")"
      ],
      "metadata": {
        "colab": {
          "base_uri": "https://localhost:8080/"
        },
        "id": "pyM7ySBRaKgV",
        "outputId": "83e2f9d7-35cf-4330-96a4-23d48af96c32"
      },
      "execution_count": null,
      "outputs": [
        {
          "output_type": "stream",
          "name": "stderr",
          "text": [
            "WARNING:chromadb:Using embedded DuckDB with persistence: data will be stored in: db\n"
          ]
        }
      ]
    },
    {
      "cell_type": "markdown",
      "source": [
        "## Create Chain"
      ],
      "metadata": {
        "id": "LF1qakPS2MCD"
      }
    },
    {
      "cell_type": "code",
      "source": [
        "model_n_ctx = 1000\n",
        "model_path = \"./ggml-gpt4all-j-v1.3-groovy.bin\"\n",
        "llm = GPT4All(model=model_path, n_ctx=1000, backend=\"gptj\", verbose=False)"
      ],
      "metadata": {
        "id": "qBZOUYGVbKPZ"
      },
      "execution_count": null,
      "outputs": []
    },
    {
      "cell_type": "code",
      "source": [
        "qa = RetrievalQA.from_chain_type(\n",
        "    llm=llm,\n",
        "    chain_type=\"stuff\",\n",
        "    retriever=db.as_retriever(search_kwargs={\"k\": 3}),\n",
        "    return_source_documents=True,\n",
        "    verbose=False,\n",
        ")"
      ],
      "metadata": {
        "id": "POCnAlJAgstA"
      },
      "execution_count": null,
      "outputs": []
    },
    {
      "cell_type": "markdown",
      "source": [
        "## Ask Questions"
      ],
      "metadata": {
        "id": "QaMXzvcPhOM7"
      }
    },
    {
      "cell_type": "code",
      "source": [
        "%%time\n",
        "prompt = f\"\"\"How much is the investment amount in Microsoft on 6/22? Extract the answer from the text.\"\"\"\n",
        "res = qa(prompt.strip())"
      ],
      "metadata": {
        "id": "y-oaTK7eMYFf"
      },
      "execution_count": null,
      "outputs": []
    },
    {
      "cell_type": "code",
      "source": [
        "print(res[\"result\"])"
      ],
      "metadata": {
        "colab": {
          "base_uri": "https://localhost:8080/"
        },
        "id": "Lgwzya6JP_JL",
        "outputId": "8c3f2fb4-4fdc-4904-fc41-a939bdbead02"
      },
      "execution_count": null,
      "outputs": [
        {
          "output_type": "stream",
          "name": "stdout",
          "text": [
            " The investment amount in Microsoft on 6/22 is $309.69.\n"
          ]
        }
      ]
    },
    {
      "cell_type": "markdown",
      "source": [
        "## References\n",
        "\n",
        "- [GPT4All](https://gpt4all.io/)\n",
        "- [MICROSOFT 2022 ANNUAL REPORT](https://www.microsoft.com/investor/reports/ar22/download-center/)"
      ],
      "metadata": {
        "id": "F-FofoJ5CCp0"
      }
    }
  ]
}
